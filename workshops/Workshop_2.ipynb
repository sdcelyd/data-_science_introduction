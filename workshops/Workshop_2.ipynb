{
 "cells": [
  {
   "cell_type": "markdown",
   "metadata": {},
   "source": [
    "# WorkShop 2\n",
    "\n",
    "Let's play with pandas and answer \"stakeholders\" _questions_.\n",
    "\n",
    "Problems $2-13$ rely on your `Problem 1` answer."
   ]
  },
  {
   "cell_type": "markdown",
   "metadata": {},
   "source": [
    "## Problem  1\n",
    "\n",
    "Load the energy data from the file `assets/Energy Indicators.xls`, which is a list of indicators of [energy supply and renewable electricity production](assets/Energy%20Indicators.xls) from the [United Nations](http://unstats.un.org/unsd/environment/excel_file_tables/2013/Energy%20Indicators.xls) for the year 2013, and should be put into a DataFrame with the variable name of __energy_df__.\n",
    "\n",
    "Keep in mind that this is an _Excel file_, and not a _comma separated values file_. Also, make sure to _exclude_ the footer and header information from the datafile. The first _two columns_ are unneccessary, so you should get rid of them, and you should change the column labels so that the columns are:\n",
    "\n",
    "```python\n",
    "['Country', 'Energy Supply', 'Energy Supply per Capita', '% Renewable]\n",
    "```\n",
    "\n",
    "Convert `Energy Supply` to _gigajoules_ (there are $1000000$ _gigajoules_ in a _petajoule_**). For all countries which have missing data (_e.g._ data with \"...\") make sure this is reflected as `np.NaN` values.\n",
    "\n",
    "Rename the following list of countries (_for use in later questions_):\n",
    "\n",
    "```bash\n",
    "\"Republic of Korea\": \"South Korea\",\n",
    "\"United States of America\": \"United States\",\n",
    "\"United Kingdom of Great Britain and Northern Ireland\": \"United Kingdom\",\n",
    "\"China, Hong Kong Special Administrative Region\": \"Hong Kong\"\n",
    "```\n",
    "\n",
    "There are also several countries with parenthesis in their name. Be sure to _remove these_, e.g. `'Bolivia (Plurinational State of)'` should be `'Bolivia'`. Additionally, there are several countries with _Numeric digits_ in their name. Make sure to remove these as well, e.g. `'Italy9'` should be `'Italy'`. \n",
    "\n",
    "Next, load the GDP data from the file `assets/world_bank.csv`, which is a _csv_ containing countries' GDP from $1960$ to $2015$ from [World Bank](http://data.worldbank.org/indicator/NY.GDP.MKTP.CD). Call this DataFrame __gdp_df__. \n",
    "\n",
    "Make sure to _skip the header_, and _rename_ the following list of countries:\n",
    "\n",
    "```bash\n",
    "\"Korea, Rep.\": \"South Korea\", \n",
    "\"Iran, Islamic Rep.\": \"Iran\",\n",
    "\"Hong Kong SAR, China\": \"Hong Kong\"\n",
    "```\n",
    "\n",
    "Finally, load the [Scimago Journal and Country Rank data for Energy Engineering and Power Technology](http://www.scimagojr.com/countryrank.php?category=2102) from the file `assets/scimagojr-3.xlsx`, which ranks countries based on their _journal contributions_ in the aforementioned area. Call this DataFrame __scimago_df__.\n",
    "\n",
    "Join the _thrgoee datasets_: _energy\\_df_, _gdp\\_df_ and _scimago\\_df_, into a new dataset (using the _intersection_ of _country names_). Use only the _last_ $10$ years ($2006-2015$) of __GDP data__ and only the _top 15 countries_ by __Scimagojr 'Rank'__ (_Rank 1 through 15_). \n",
    "\n",
    "The _index_ of this DataFrame should be the __name__ of the country, and the _columns_ should be:\n",
    "`['Rank', 'Documents', 'Citable documents', 'Citations', 'Self-citations', 'Citations per document', 'H index', 'Energy Supply', 'Energy Supply per Capita', '% Renewable', '2006', '2007', '2008','2009', '2010', '2011', '2012', '2013', '2014', '2015']`.\n",
    "\n",
    "_This function should return a DataFrame with 20 columns and 15 entries, and the rows of the DataFrame should be sorted by \"Rank\"._"
   ]
  },
  {
   "cell_type": "code",
   "execution_count": 1,
   "metadata": {},
   "outputs": [],
   "source": [
    "#!pip install xlrd\n",
    "#!pip install openpyxl\n",
    "import warnings \n",
    "warnings.filterwarnings('ignore')\n",
    "import pandas as pd\n",
    "import numpy as np\n",
    "\n",
    "def generate_energy_df():\n",
    "    \"\"\" \n",
    "    Loads and cleans the Energy Indicators dataset.\n",
    "\n",
    "    Return:\n",
    "        energy_df (DataFrame): A cleaned DataFrame with columns \n",
    "        ['Country','Energy Supply', 'Energy Supply per Capita', \n",
    "        '% Renewable']\n",
    "    \"\"\"\n",
    "    # YOUR CODE HERE load dataframe and remove header and footer\n",
    "    energy_df = pd.read_excel(\n",
    "        './assets/Energy Indicators.xls',\n",
    "        skiprows=17,\n",
    "        skipfooter=38,\n",
    "        usecols=\"C:F\",\n",
    "        names=['Country', 'Energy Supply', 'Energy Supply per Capita', '% Renewable']\n",
    "    )\n",
    "\n",
    "    # YOUR CODE HERE transform data\n",
    "    energy_df['Energy Supply'] *= 1_000_000\n",
    "    energy_df = energy_df.replace({'...': np.nan})\n",
    "\n",
    "    # YOUR CODE HERE transform Country column\n",
    "\n",
    "    energy_df['Country'] = energy_df['Country'].str.replace(r'\\s*\\(.*\\)\\s*', '', regex=True)\n",
    "    energy_df['Country'] = energy_df['Country'].str.replace(r'\\d+', '', regex=True)\n",
    "\n",
    "    energy_df['Country'] = energy_df['Country'].replace({\n",
    "        \"Republic of Korea\": \"South Korea\",\n",
    "        \"United States of America\": \"United States\",\n",
    "        \"United Kingdom of Great Britain and Northern Ireland\": \"United Kingdom\",\n",
    "        \"China, Hong Kong Special Administrative Region\": \"Hong Kong\"\n",
    "    })\n",
    "\n",
    "    return energy_df\n",
    "\n",
    "def get_GDP_df():\n",
    "    \"\"\" \n",
    "    Loads and cleans the World Bank GDP dataset.\n",
    "\n",
    "    Return: \n",
    "        A cleaned DataFrame with columns ['Country', \n",
    "        '2006'-'2015']\n",
    "    \"\"\"\n",
    "    gdp_df = pd.read_csv('./assets/world_bank.csv', skiprows=4)\n",
    "    gdp_df.rename(columns={'Country Name': 'Country'}, inplace=True)\n",
    "\n",
    "\n",
    "\n",
    "    # YOUR CODE HERE load data, remove header, adjust column names\n",
    "    country_renames = {\n",
    "        \"Korea, Rep.\": \"South Korea\",\n",
    "        \"Iran, Islamic Rep.\": \"Iran\",\n",
    "        \"Hong Kong SAR, China\": \"Hong Kong\",\n",
    "    }\n",
    "    gdp_df['Country'].replace(country_renames, inplace=True)\n",
    "\n",
    "\n",
    "    # YOUR CODE HERE transform Country column \n",
    "    gdp_df = gdp_df.drop(gdp_df.columns[1:-10], axis=1)\n",
    "    return gdp_df\n",
    "\n",
    "def get_scimago_df():\n",
    "    \"\"\" \n",
    "    This function loads the Scimago Journal and Country Rank dataset \n",
    "    related to energy engineering and power technology. \n",
    "    \n",
    "    Return:\n",
    "        scimago_df(DataFrame): Returns the entire DataFrame (scimago_df)\n",
    "        as it only contains 15 rows (top 15 countries by rank).\n",
    "\n",
    "    \"\"\"\n",
    "    # YOUR CODE HERE load data\n",
    "    scimago_df = pd.read_excel('assets/scimagojr-3.xlsx')\n",
    "    return scimago_df\n",
    "\n",
    "def answer_one():\n",
    "    \"\"\" \n",
    "    This function merges Energy, GDP, and Scimago Journal Rank datasets\n",
    "    into one DataFrame.\n",
    "    \n",
    "    Returns:\n",
    "        df (DataFrame): A merged DataFrame with columns ['Rank', 'Documents',\n",
    "        'Citable documents', 'Citations', 'Self-citations', \n",
    "        'Citations per document', 'H index', 'Energy Supply', \n",
    "        'Energy Supply per Capita', '% Renewable', '2006'-'2015']\n",
    "    \"\"\"\n",
    "    energy_df = generate_energy_df()\n",
    "    gdp_df = get_GDP_df()\n",
    "    scimago_df = get_scimago_df()\n",
    "\n",
    "    df = pd.merge(energy_df, gdp_df, on='Country', how='inner')\n",
    "    df = pd.merge(scimago_df.iloc[:15], df, on='Country', how='inner')\n",
    "    df.set_index('Country', inplace=True)\n",
    "    df.sort_values('Rank', inplace=True)\n",
    "    return df"
   ]
  },
  {
   "cell_type": "code",
   "execution_count": 2,
   "metadata": {},
   "outputs": [],
   "source": [
    "# example of test cases\n",
    "assert type(answer_one()) == pd.DataFrame, \"Q1: You should return a DataFrame!\"\n",
    "assert answer_one().shape == (15,20), \"Q1: Your DataFrame should have 20 columns and 15 entries!\""
   ]
  },
  {
   "cell_type": "code",
   "execution_count": 84,
   "metadata": {},
   "outputs": [],
   "source": [
    "# space for proffesor tests\n"
   ]
  },
  {
   "cell_type": "markdown",
   "metadata": {},
   "source": [
    "## Problem 2\n",
    "\n",
    "The _Problem 1_ joined three datasets then reduced this to just the top $15$ entries. When you joined the datasets, but before you reduced this to the top $15$ items, how many entries did you lose?\n",
    "\n",
    "_This function should return a single number._"
   ]
  },
  {
   "cell_type": "code",
   "execution_count": 85,
   "metadata": {},
   "outputs": [
    {
     "data": {
      "text/html": [
       "<svg width=\"800\" height=\"300\">\n",
       "  <circle cx=\"150\" cy=\"180\" r=\"80\" fill-opacity=\"0.2\" stroke=\"black\" stroke-width=\"2\" fill=\"blue\" />\n",
       "  <circle cx=\"200\" cy=\"100\" r=\"80\" fill-opacity=\"0.2\" stroke=\"black\" stroke-width=\"2\" fill=\"red\" />\n",
       "  <circle cx=\"100\" cy=\"100\" r=\"80\" fill-opacity=\"0.2\" stroke=\"black\" stroke-width=\"2\" fill=\"green\" />\n",
       "  <line x1=\"150\" y1=\"125\" x2=\"300\" y2=\"150\" stroke=\"black\" stroke-width=\"2\" fill=\"black\" stroke-dasharray=\"5,3\"/>\n",
       "  <text x=\"300\" y=\"165\" font-family=\"Verdana\" font-size=\"35\">Everything but this!</text>\n",
       "</svg>\n"
      ],
      "text/plain": [
       "<IPython.core.display.HTML object>"
      ]
     },
     "metadata": {},
     "output_type": "display_data"
    }
   ],
   "source": [
    "%%HTML\n",
    "<svg width=\"800\" height=\"300\">\n",
    "  <circle cx=\"150\" cy=\"180\" r=\"80\" fill-opacity=\"0.2\" stroke=\"black\" stroke-width=\"2\" fill=\"blue\" />\n",
    "  <circle cx=\"200\" cy=\"100\" r=\"80\" fill-opacity=\"0.2\" stroke=\"black\" stroke-width=\"2\" fill=\"red\" />\n",
    "  <circle cx=\"100\" cy=\"100\" r=\"80\" fill-opacity=\"0.2\" stroke=\"black\" stroke-width=\"2\" fill=\"green\" />\n",
    "  <line x1=\"150\" y1=\"125\" x2=\"300\" y2=\"150\" stroke=\"black\" stroke-width=\"2\" fill=\"black\" stroke-dasharray=\"5,3\"/>\n",
    "  <text x=\"300\" y=\"165\" font-family=\"Verdana\" font-size=\"35\">Everything but this!</text>\n",
    "</svg>"
   ]
  },
  {
   "cell_type": "code",
   "execution_count": 3,
   "metadata": {},
   "outputs": [],
   "source": [
    "def answer_two():\n",
    "    \"\"\" \n",
    "    This function calculates the number of entries lost after \n",
    "    merging datasets but before reducing to the top entries.\n",
    "\n",
    "    Return:\n",
    "        lost_entries (int): A number of entries lost in the \n",
    "        merging process before reducing to top items\n",
    "    \"\"\"\n",
    "    merged_df = answer_one()\n",
    "    complete = pd.merge(generate_energy_df(), get_GDP_df(), on='Country', how='outer')\n",
    "    complete = pd.merge(get_scimago_df(), complete, on='Country', how='outer')\n",
    "\n",
    "    return len(complete) - len(merged_df)"
   ]
  },
  {
   "cell_type": "code",
   "execution_count": 4,
   "metadata": {},
   "outputs": [],
   "source": [
    "# example of test cases\n",
    "assert type(answer_two()) == int, \"Q2: You should return an int number!\""
   ]
  },
  {
   "cell_type": "code",
   "execution_count": 88,
   "metadata": {},
   "outputs": [],
   "source": [
    "# space for proffesor tests"
   ]
  },
  {
   "cell_type": "markdown",
   "metadata": {},
   "source": [
    "## Problem 3\n",
    "\n",
    "What are the top $15$ countries for average GDP over the last $10$ years?\n",
    "\n",
    "_This function should return a Series named `avg_gdp` with $15$ countries and their average GDP sorted in descending order._"
   ]
  },
  {
   "cell_type": "code",
   "execution_count": 5,
   "metadata": {},
   "outputs": [
    {
     "data": {
      "text/plain": [
       "Country\n",
       "United States         1.536434e+13\n",
       "China                 6.348609e+12\n",
       "Japan                 5.542208e+12\n",
       "Germany               3.493025e+12\n",
       "France                2.681725e+12\n",
       "United Kingdom        2.487907e+12\n",
       "Brazil                2.189794e+12\n",
       "Italy                 2.120175e+12\n",
       "India                 1.769297e+12\n",
       "Canada                1.660647e+12\n",
       "Russian Federation    1.565459e+12\n",
       "Spain                 1.418078e+12\n",
       "Australia             1.164043e+12\n",
       "South Korea           1.106715e+12\n",
       "Iran                  4.441558e+11\n",
       "dtype: float64"
      ]
     },
     "execution_count": 5,
     "metadata": {},
     "output_type": "execute_result"
    }
   ],
   "source": [
    "def answer_three():\n",
    "    \"\"\" \n",
    "    This function calculates the average GDP over the \n",
    "    last 10 years for each country and retrieves the \n",
    "    top 15 countries.\n",
    "    \n",
    "    Returns:\n",
    "        avg_gdp (Series): A Series with 15 countries and \n",
    "        their average GDP values sorted in descending order.\n",
    "\n",
    "    \"\"\"\n",
    "    avg_gdp = answer_one().iloc[:, 10:].mean(axis=1).sort_values(ascending=False)\n",
    "    return avg_gdp\n",
    "answer_three().head(50)"
   ]
  },
  {
   "cell_type": "code",
   "execution_count": 6,
   "metadata": {},
   "outputs": [],
   "source": [
    "# example of test cases\n",
    "assert type(answer_three()) == pd.Series, \"Q3: You should return a Series!\""
   ]
  },
  {
   "cell_type": "code",
   "execution_count": 91,
   "metadata": {},
   "outputs": [],
   "source": [
    "# space for proffesor tests"
   ]
  },
  {
   "cell_type": "markdown",
   "metadata": {},
   "source": [
    "# Problem 4\n",
    "\n",
    "By how much had the GDP changed over the $10$ year span for the country with the $6-th$ largest average GDP?\n",
    "\n",
    "_This function should return a single number._"
   ]
  },
  {
   "cell_type": "code",
   "execution_count": 7,
   "metadata": {},
   "outputs": [
    {
     "name": "stdout",
     "output_type": "stream",
     "text": [
      "246702696075.3999\n"
     ]
    }
   ],
   "source": [
    "def answer_four():\n",
    "    \"\"\"\n",
    "    This function calculates the GDP change over the \n",
    "    10-year span for the country ranked 6th in average\n",
    "    GDP.\n",
    "    \n",
    "    Returns:\n",
    "        gdp_change (float): GDP change over the 10-year \n",
    "        span for the 6th ranked country.\n",
    "    \"\"\"\n",
    "    avg_gdp = answer_three()\n",
    "    sixth_country = avg_gdp.index[5]  \n",
    "    gdp_df = get_GDP_df().set_index('Country')\n",
    "    gdp_change = gdp_df.loc[sixth_country].iloc[-1] - gdp_df.loc[sixth_country].iloc[0]\n",
    "    gdp_change = float(gdp_change)\n",
    "    return gdp_change\n",
    "\n",
    "print(answer_four())"
   ]
  },
  {
   "cell_type": "code",
   "execution_count": 8,
   "metadata": {},
   "outputs": [],
   "source": [
    "# example of test cases\n",
    "assert type(answer_four()) == float, \"Q4: You should return a single number!\""
   ]
  },
  {
   "cell_type": "code",
   "execution_count": null,
   "metadata": {},
   "outputs": [],
   "source": [
    "# space for proffesor tests\n"
   ]
  },
  {
   "cell_type": "markdown",
   "metadata": {},
   "source": [
    "## Problem 5\n",
    "\n",
    "What is the _mean energy supply per capita_?\n",
    "\n",
    "_This function should return a single number._"
   ]
  },
  {
   "cell_type": "code",
   "execution_count": 9,
   "metadata": {},
   "outputs": [
    {
     "name": "stdout",
     "output_type": "stream",
     "text": [
      "90.66666666666667\n"
     ]
    }
   ],
   "source": [
    "def answer_five():\n",
    "    \"\"\" \n",
    "    This function calculates the mean energy supply \n",
    "    per capita across all countries.\n",
    "\n",
    "    Returns:\n",
    "        mean_energy_supply_per_capita (float): Mean \n",
    "        energy supply per capita.\n",
    "    \"\"\"\n",
    "    energy_df = generate_energy_df()\n",
    "    mean_energy_supply_per_capita = float(energy_df['Energy Supply per Capita'].mean())\n",
    "    return mean_energy_supply_per_capita\n",
    "print(answer_five())"
   ]
  },
  {
   "cell_type": "code",
   "execution_count": 10,
   "metadata": {},
   "outputs": [],
   "source": [
    "# example of test cases\n",
    "assert type(answer_five()) == float, \"Q5: You should return a single number!\""
   ]
  },
  {
   "cell_type": "code",
   "execution_count": null,
   "metadata": {},
   "outputs": [],
   "source": [
    "# space for proffesor tests"
   ]
  },
  {
   "cell_type": "markdown",
   "metadata": {},
   "source": [
    "## Problem 6\n",
    "\n",
    "What __country__ has the _maximum % Renewable_ and what is the _percentage_?\n",
    "\n",
    "_This function should return a tuple with the name of the country and the percentage._"
   ]
  },
  {
   "cell_type": "code",
   "execution_count": 11,
   "metadata": {},
   "outputs": [
    {
     "name": "stdout",
     "output_type": "stream",
     "text": [
      "('Brazil', 69.64803)\n"
     ]
    }
   ],
   "source": [
    "def answer_six():\n",
    "    \"\"\" \n",
    "    This function finds the country with the maximum\n",
    "    percentage of renewable energy and returns both \n",
    "    the country name and the percentage.\n",
    "    \n",
    "    Returns:\n",
    "        tuple(max_renewable_country (str), \n",
    "        max_renewable_percentage (float)): A tuple with \n",
    "        the name of the country that has the maximun \n",
    "        % Renewable and the percentage of this country.\n",
    "    \"\"\"\n",
    "    maximun_renewable = answer_one()['% Renewable'].idxmax()\n",
    "    percentage = float(answer_one()['% Renewable'].max())\n",
    "    return (maximun_renewable, percentage)\n",
    "\n",
    "print(answer_six())\n"
   ]
  },
  {
   "cell_type": "code",
   "execution_count": 12,
   "metadata": {},
   "outputs": [],
   "source": [
    "# example of test cases\n",
    "assert type(answer_six()) == tuple, \"Q6: You should return a tuple!\"\n",
    "assert type(answer_six()[0]) == str, \"Q6: The first element in your result should be the name of the country!\""
   ]
  },
  {
   "cell_type": "code",
   "execution_count": null,
   "metadata": {},
   "outputs": [],
   "source": [
    "# space for proffesor tests"
   ]
  },
  {
   "cell_type": "markdown",
   "metadata": {},
   "source": [
    "## Problem 7\n",
    "\n",
    "Create a new column that is the _ratio of Self-Citations to Total Citations_. \n",
    "What is the _maximum_ value for this new column, and what _country_ has the _highest ratio_?\n",
    "\n",
    "_This function should return a tuple with the name of the country and the ratio._"
   ]
  },
  {
   "cell_type": "code",
   "execution_count": 13,
   "metadata": {},
   "outputs": [
    {
     "name": "stdout",
     "output_type": "stream",
     "text": [
      "('China', 0.6893126179389422)\n"
     ]
    }
   ],
   "source": [
    "def answer_seven():\n",
    "    \"\"\" \n",
    "    This function computes a new column in the dataset \n",
    "    obtained from answer_one() that represents the ratio \n",
    "    of Self-Citations to Total Citations for each country\n",
    "    \n",
    "    Returns:\n",
    "        tuple: (country_name (str), citation_ratio (float)):\n",
    "        A tuple containing the name of the country with the \n",
    "        highest Citation Ratio and the corresponding ratio \n",
    "        value.\n",
    "    \"\"\"\n",
    "    df = answer_one()\n",
    "    df[\"Citation Ratio\"] = df[\"Self-citations\"]/df[\"Citations\"]\n",
    "    maximun_citation_ratio = df[df[\"Citation Ratio\"] == df[\"Citation Ratio\"].max()]\n",
    "    answer = maximun_citation_ratio[\"Citation Ratio\"].index[0], maximun_citation_ratio[\"Citation Ratio\"].values[0]\n",
    "\n",
    "    return answer\n",
    "print(answer_seven())"
   ]
  },
  {
   "cell_type": "code",
   "execution_count": 14,
   "metadata": {},
   "outputs": [],
   "source": [
    "# example of test cases\n",
    "assert type(answer_seven()) == tuple, \"Q7: You should return a tuple!\"\n",
    "assert type(answer_seven()[0]) == str, \"Q7: The first element in your result should be the name of the country!\""
   ]
  },
  {
   "cell_type": "code",
   "execution_count": null,
   "metadata": {},
   "outputs": [],
   "source": [
    "# space for proffesor tests"
   ]
  },
  {
   "cell_type": "markdown",
   "metadata": {},
   "source": [
    "## Problem 8\n",
    "\n",
    "Create a column that estimates the _population using Energy Supply_ and _Energy Supply per capita_. \n",
    "What is the _third_ most populous country according to this estimate?\n",
    "\n",
    "_This function should return the name of the country._"
   ]
  },
  {
   "cell_type": "code",
   "execution_count": 15,
   "metadata": {},
   "outputs": [
    {
     "name": "stdout",
     "output_type": "stream",
     "text": [
      "United States\n"
     ]
    }
   ],
   "source": [
    "def answer_eight():\n",
    "    \"\"\" \n",
    "    This function calculates the estimated population using\n",
    "    Energy Supply and Energy Supply per capita, and \n",
    "    identifies the third most populous country according to \n",
    "    this estimate.\n",
    "\n",
    "    Return:\n",
    "        third_most_populous_country(str): the name of the \n",
    "        country ranking third in terms of estimated population.\n",
    "    \"\"\"\n",
    "    df = answer_one()\n",
    "    df['Population'] = df['Energy Supply'] / df['Energy Supply per Capita']\n",
    "    df.sort_values(by='Population', ascending=False, inplace=True)\n",
    "    third_most_populous_country = df.index[2]\n",
    "    return third_most_populous_country\n",
    "print(answer_eight())\n"
   ]
  },
  {
   "cell_type": "code",
   "execution_count": 16,
   "metadata": {},
   "outputs": [],
   "source": [
    "# example of test cases\n",
    "assert type(answer_eight()) == str, \"Q8: You should return the name of the country!\""
   ]
  },
  {
   "cell_type": "code",
   "execution_count": null,
   "metadata": {},
   "outputs": [],
   "source": [
    "# space for proffesor tests"
   ]
  },
  {
   "cell_type": "markdown",
   "metadata": {},
   "source": [
    "## Problem 9\n",
    "\n",
    "Create a column that estimates the _number of citable documents per person_. \n",
    "\n",
    "What is the correlation between the _number of citable documents per capita_ and the _energy supply per capita_? Use the `.corr()` method, (Pearson's correlation).\n",
    "\n",
    "_This function should return a single number._"
   ]
  },
  {
   "cell_type": "code",
   "execution_count": 17,
   "metadata": {},
   "outputs": [
    {
     "name": "stdout",
     "output_type": "stream",
     "text": [
      "0.7940010435442946\n"
     ]
    }
   ],
   "source": [
    "def answer_nine():\n",
    "    \"\"\" \n",
    "    This function calculates the correlation between \n",
    "    citable documents per capita and energy supply per \n",
    "    capita using Pandas' .corr() method, which employs \n",
    "    Pearson's correlation.\n",
    "\n",
    "    Return: \n",
    "        correlation(float):A single number representing \n",
    "        Pearson's correlation coefficient between citable \n",
    "        documents per capita and energy supply per capita.\n",
    "    \"\"\"\n",
    "    df = answer_one()\n",
    "    df['Population'] = df['Energy Supply'] / df['Energy Supply per Capita']\n",
    "    df['Citable documents per capita'] = df['Citable documents'] / df['Population']\n",
    "    correlation = df['Citable documents per capita'].corr(df['Energy Supply per Capita'])\n",
    "    \n",
    "    return correlation\n",
    "print(answer_nine())"
   ]
  },
  {
   "cell_type": "code",
   "execution_count": 18,
   "metadata": {},
   "outputs": [],
   "source": [
    "# example of test cases\n",
    "assert answer_nine() >= -1. and answer_nine() <= 1., \"Q9: A valid correlation should between -1 to 1!\""
   ]
  },
  {
   "cell_type": "code",
   "execution_count": null,
   "metadata": {},
   "outputs": [],
   "source": [
    "# space for proffesor tests"
   ]
  },
  {
   "cell_type": "markdown",
   "metadata": {},
   "source": [
    "## Problem 10\n",
    "\n",
    "Create a new column with a $1$ if the _country's % Renewable_ value is at or above the median for all countries in the _top 15_, and a $0$ if the _country's % Renewable_ value is below the median.\n",
    "\n",
    "_This function should return a series named `high_renew` whose index is the country name sorted in ascending order of rank._"
   ]
  },
  {
   "cell_type": "code",
   "execution_count": 19,
   "metadata": {},
   "outputs": [
    {
     "name": "stdout",
     "output_type": "stream",
     "text": [
      "Country\n",
      "China                 1\n",
      "United States         0\n",
      "Japan                 0\n",
      "United Kingdom        0\n",
      "Russian Federation    1\n",
      "Canada                1\n",
      "Germany               1\n",
      "India                 0\n",
      "France                1\n",
      "South Korea           0\n",
      "Italy                 1\n",
      "Spain                 1\n",
      "Iran                  0\n",
      "Australia             0\n",
      "Brazil                1\n",
      "Name: high_renew, dtype: int64\n"
     ]
    }
   ],
   "source": [
    "def answer_ten():\n",
    "    \"\"\" \n",
    "    This function creates a new column indicating whether\n",
    "    a country's '% Renewable' value is above or equal to \n",
    "    the median of all countries in the top 15, and returns\n",
    "    a series named 'high_renew' indexed by the country \n",
    "    name, sorted in ascending order of rank.\n",
    "\n",
    "    Return: \n",
    "        high_renew(Series): A Series where each country in \n",
    "        the top 15 is assigned a binary value indicating \n",
    "        whether its '% Renewable' is above the median.\n",
    "    \"\"\"\n",
    "    df = answer_one()\n",
    "    median_renewable = df['% Renewable'].median()\n",
    "    df['high_renew'] = df['% Renewable'].apply(lambda x: 1 if x >= median_renewable else 0)\n",
    "    high_renew = df['high_renew']\n",
    "    return high_renew\n",
    "print(answer_ten())"
   ]
  },
  {
   "cell_type": "code",
   "execution_count": 20,
   "metadata": {},
   "outputs": [],
   "source": [
    "# example of test cases\n",
    "assert type(answer_ten()) == pd.Series, \"Q10: You should return a Series!\""
   ]
  },
  {
   "cell_type": "code",
   "execution_count": null,
   "metadata": {},
   "outputs": [],
   "source": [
    "# space for proffesor tests"
   ]
  },
  {
   "cell_type": "markdown",
   "metadata": {},
   "source": [
    "## Problem 11\n",
    "\n",
    "Use the following dictionary to group the _Countries by Continent_, then create a DataFrame that displays the sample size (the number of countries in each continent bin), and the _sum_, _mean_, and _std deviation_ for the estimated population of each country.\n",
    "\n",
    "```python\n",
    "ContinentDict  = {\n",
    "    'China':'Asia', \n",
    "    'United States':'North America', \n",
    "    'Japan':'Asia', \n",
    "    'United Kingdom':'Europe', \n",
    "    'Russian Federation':'Europe', \n",
    "    'Canada':'North America', \n",
    "    'Germany':'Europe', \n",
    "    'India':'Asia',\n",
    "    'France':'Europe', \n",
    "    'South Korea':'Asia', \n",
    "    'Italy':'Europe', \n",
    "    'Spain':'Europe', \n",
    "    'Iran':'Asia',\n",
    "    'Australia':'Australia', \n",
    "    'Brazil':'South America'\n",
    "}\n",
    "```\n",
    "\n",
    "_This function should return a DataFrame with index named Continent `['Asia', 'Australia', 'Europe', 'North America', 'South America']` and columns `['size', 'sum', 'mean', 'std']`_"
   ]
  },
  {
   "cell_type": "code",
   "execution_count": 21,
   "metadata": {},
   "outputs": [
    {
     "data": {
      "text/html": [
       "<div>\n",
       "<style scoped>\n",
       "    .dataframe tbody tr th:only-of-type {\n",
       "        vertical-align: middle;\n",
       "    }\n",
       "\n",
       "    .dataframe tbody tr th {\n",
       "        vertical-align: top;\n",
       "    }\n",
       "\n",
       "    .dataframe thead th {\n",
       "        text-align: right;\n",
       "    }\n",
       "</style>\n",
       "<table border=\"1\" class=\"dataframe\">\n",
       "  <thead>\n",
       "    <tr style=\"text-align: right;\">\n",
       "      <th></th>\n",
       "      <th>size</th>\n",
       "      <th>sum</th>\n",
       "      <th>mean</th>\n",
       "      <th>std</th>\n",
       "    </tr>\n",
       "    <tr>\n",
       "      <th>Continent</th>\n",
       "      <th></th>\n",
       "      <th></th>\n",
       "      <th></th>\n",
       "      <th></th>\n",
       "    </tr>\n",
       "  </thead>\n",
       "  <tbody>\n",
       "    <tr>\n",
       "      <th>Asia</th>\n",
       "      <td>5</td>\n",
       "      <td>2898666386.6106</td>\n",
       "      <td>579733277.32212</td>\n",
       "      <td>6.790979e+08</td>\n",
       "    </tr>\n",
       "    <tr>\n",
       "      <th>Australia</th>\n",
       "      <td>1</td>\n",
       "      <td>23316017.316017</td>\n",
       "      <td>23316017.316017</td>\n",
       "      <td>NaN</td>\n",
       "    </tr>\n",
       "    <tr>\n",
       "      <th>Europe</th>\n",
       "      <td>6</td>\n",
       "      <td>457929667.216372</td>\n",
       "      <td>76321611.202729</td>\n",
       "      <td>3.464767e+07</td>\n",
       "    </tr>\n",
       "    <tr>\n",
       "      <th>North America</th>\n",
       "      <td>2</td>\n",
       "      <td>352855249.48025</td>\n",
       "      <td>176427624.740125</td>\n",
       "      <td>1.996696e+08</td>\n",
       "    </tr>\n",
       "    <tr>\n",
       "      <th>South America</th>\n",
       "      <td>1</td>\n",
       "      <td>205915254.237288</td>\n",
       "      <td>205915254.237288</td>\n",
       "      <td>NaN</td>\n",
       "    </tr>\n",
       "  </tbody>\n",
       "</table>\n",
       "</div>"
      ],
      "text/plain": [
       "               size               sum              mean           std\n",
       "Continent                                                            \n",
       "Asia              5   2898666386.6106   579733277.32212  6.790979e+08\n",
       "Australia         1   23316017.316017   23316017.316017           NaN\n",
       "Europe            6  457929667.216372   76321611.202729  3.464767e+07\n",
       "North America     2   352855249.48025  176427624.740125  1.996696e+08\n",
       "South America     1  205915254.237288  205915254.237288           NaN"
      ]
     },
     "execution_count": 21,
     "metadata": {},
     "output_type": "execute_result"
    }
   ],
   "source": [
    "def answer_eleven():\n",
    "    \"\"\" \n",
    "    This function groups countries by continent using the\n",
    "    ContinentDict dictionary, and creates a DataFrame \n",
    "    displaying sample size (number of countries), sum, mean,\n",
    "    and standard deviation of the estimated population for \n",
    "    each continent.\n",
    "\n",
    "    Return:\n",
    "        continent_stats(DataFrame): A DataFrame where each row\n",
    "        represents a continent, and columns are sample size, \n",
    "        sum, mean, and standard deviation of the estimated \n",
    "        population.\n",
    "\n",
    "    \"\"\"\n",
    "    df = answer_one()\n",
    "    df['Population'] = df['Energy Supply'] / df['Energy Supply per Capita']\n",
    "\n",
    "    #Dictionary with continent\n",
    "    ContinentDict = {\n",
    "        'China':'Asia', \n",
    "        'United States':'North America', \n",
    "        'Japan':'Asia', \n",
    "        'United Kingdom':'Europe', \n",
    "        'Russian Federation':'Europe', \n",
    "        'Canada':'North America', \n",
    "        'Germany':'Europe', \n",
    "        'India':'Asia',\n",
    "        'France':'Europe', \n",
    "        'South Korea':'Asia', \n",
    "        'Italy':'Europe', \n",
    "        'Spain':'Europe', \n",
    "        'Iran':'Asia',\n",
    "        'Australia':'Australia', \n",
    "        'Brazil':'South America'\n",
    "    }\n",
    "\n",
    "    # Assign continents based on ContinentDict\n",
    "    df['Continent'] = df.index.map(lambda x: ContinentDict[x])\n",
    "\n",
    "    # Group by continent and calculate statistics\n",
    "    continent_stats = df.groupby('Continent')['Population'].agg(['size', 'sum', 'mean', 'std'])\n",
    "\n",
    "    # Rename index to 'Continent'\n",
    "    continent_stats.index.name = 'Continent'\n",
    "    \n",
    "    return continent_stats\n",
    "\n",
    "answer_eleven().head()"
   ]
  },
  {
   "cell_type": "code",
   "execution_count": 22,
   "metadata": {},
   "outputs": [],
   "source": [
    "# example of test cases\n",
    "assert type(answer_eleven()) == pd.DataFrame, \"Q11: You should return a DataFrame!\"\n",
    "assert answer_eleven().shape[0] == 5, \"Q11: Wrong row numbers!\"\n",
    "assert answer_eleven().shape[1] == 4, \"Q11: Wrong column numbers!\""
   ]
  },
  {
   "cell_type": "code",
   "execution_count": null,
   "metadata": {},
   "outputs": [],
   "source": [
    "# space for proffesor tests"
   ]
  },
  {
   "cell_type": "markdown",
   "metadata": {},
   "source": [
    "## Problem 12\n",
    "\n",
    "Cut (check `.cut()` from Pandas) _% Renewable_ into $5$ bins, but in the same column. Group _Top15_ by the _Continent_, as well as these new _% Renewable_ bins. How many countries are in each of these groups? You could check `.size()` as aggregation in group by.\n",
    "\n",
    "_This function should return a Series with a MultiIndex of `Continent`, then the bins for `% Renewable` (in string datatype). Do not include groups with no countries._"
   ]
  },
  {
   "cell_type": "code",
   "execution_count": 23,
   "metadata": {},
   "outputs": [
    {
     "data": {
      "text/plain": [
       "Continent      % Renewable     \n",
       "Asia           (2.212, 15.753]     4.0\n",
       "               (15.753, 29.227]    1.0\n",
       "Australia      (2.212, 15.753]     1.0\n",
       "Europe         (2.212, 15.753]     1.0\n",
       "               (15.753, 29.227]    3.0\n",
       "               (29.227, 42.701]    2.0\n",
       "North America  (2.212, 15.753]     1.0\n",
       "               (56.174, 69.648]    1.0\n",
       "South America  (56.174, 69.648]    1.0\n",
       "Name: Country, dtype: float64"
      ]
     },
     "execution_count": 23,
     "metadata": {},
     "output_type": "execute_result"
    }
   ],
   "source": [
    "def answer_twelve():\n",
    "    \"\"\" \n",
    "    This function bins the '% Renewable' column using pd.cut()\n",
    "    and groups the Top 15 countries by continent and these new \n",
    "    '% Renewable' bins. It returns a series with a MultiIndex \n",
    "    of continent and '% Renewable' bins, indicating the number \n",
    "    of countries in each group.\n",
    "\n",
    "    Return:\n",
    "        df(Series): A Series with a MultiIndex where the first \n",
    "        level is the continent and the second level are the \n",
    "        '% Renewable' bins, indicating the count of countries \n",
    "        in each group.\n",
    "    \"\"\"\n",
    "    ContinentDict  = {\n",
    "        'China':'Asia', \n",
    "        'United States':'North America', \n",
    "        'Japan':'Asia', \n",
    "        'United Kingdom':'Europe', \n",
    "        'Russian Federation':'Europe', \n",
    "        'Canada':'North America', \n",
    "        'Germany':'Europe', \n",
    "        'India':'Asia',\n",
    "        'France':'Europe', \n",
    "        'South Korea':'Asia', \n",
    "        'Italy':'Europe', \n",
    "        'Spain':'Europe', \n",
    "        'Iran':'Asia',\n",
    "        'Australia':'Australia', \n",
    "        'Brazil':'South America'\n",
    "    }\n",
    "\n",
    "    df = answer_one()\n",
    "    df = df.reset_index()\n",
    "    df[\"Continent\"] = df[\"Country\"].map(ContinentDict)\n",
    "\n",
    "    df[\"% Renewable\"] = pd.cut(df[\"% Renewable\"], 5)\n",
    "    df = df.groupby([\"Continent\", \"% Renewable\"]).agg({\"Country\": pd.Series.nunique})\n",
    "    df = df[\"Country\"].dropna()\n",
    "  \n",
    "    return df\n",
    "answer_twelve().head(15)"
   ]
  },
  {
   "cell_type": "code",
   "execution_count": 24,
   "metadata": {},
   "outputs": [],
   "source": [
    "# example of test cases\n",
    "assert type(answer_twelve()) == pd.Series, \"Q12: You should return a Series!\"\n",
    "assert len(answer_twelve()) == 9, \"Q12: Wrong result numbers!\""
   ]
  },
  {
   "cell_type": "code",
   "execution_count": null,
   "metadata": {},
   "outputs": [],
   "source": [
    "# space for proffesor tests"
   ]
  },
  {
   "cell_type": "markdown",
   "metadata": {},
   "source": [
    "## Problem 13\n",
    "\n",
    "Convert the _Population Estimate_ series to a string with thousands separator (using _dots_). Use all significant digits (do not round the results).\n",
    "\n",
    "e.g. 12345678.90 -> 12.345.678,90\n",
    "\n",
    "_This function should return a series `pop_est` whose index is the country name and whose values are the population estimate string_"
   ]
  },
  {
   "cell_type": "code",
   "execution_count": 25,
   "metadata": {},
   "outputs": [
    {
     "name": "stdout",
     "output_type": "stream",
     "text": [
      "Country\n",
      "China                 1,367,645,161.29\n",
      "United States           317,615,384.62\n",
      "Japan                   127,409,395.97\n",
      "United Kingdom           63,870,967.74\n",
      "Russian Federation      143,500,000.00\n",
      "Canada                   35,239,864.86\n",
      "Germany                  80,369,696.97\n",
      "India                 1,276,730,769.23\n",
      "France                   63,837,349.40\n",
      "South Korea              49,805,429.86\n",
      "Italy                    59,908,256.88\n",
      "Spain                    46,443,396.23\n",
      "Iran                     77,075,630.25\n",
      "Australia                23,316,017.32\n",
      "Brazil                  205,915,254.24\n",
      "Name: Population, dtype: object\n"
     ]
    }
   ],
   "source": [
    "def answer_thirteen():\n",
    "    \"\"\" \n",
    "    This function converts the Population Estimate series to a\n",
    "    string with thousands separators (using dots), preserving \n",
    "    all significant digits without rounding.\n",
    "\n",
    "    Return:\n",
    "        pop_est(Series): A Series where each index is a country \n",
    "        name and each value is the population estimate formatted \n",
    "        as a string.\n",
    "    \"\"\"\n",
    "    df = answer_one()\n",
    "    df['Population'] = df['Energy Supply'] / df['Energy Supply per Capita']\n",
    "    \n",
    "    # Format Population column with thousands separator\n",
    "    pd.options.display.float_format = '{:,.2f}'.format\n",
    "    pop_est = df['Population'].apply(lambda x: '{:,.2f}'.format(x))\n",
    "    \n",
    "    return pop_est\n",
    "print(answer_thirteen())"
   ]
  },
  {
   "cell_type": "code",
   "execution_count": 26,
   "metadata": {},
   "outputs": [],
   "source": [
    "# example of test cases\n",
    "assert type(answer_thirteen()) == pd.Series, \"Q13: You should return a Series!\"\n",
    "assert len(answer_thirteen()) == 15, \"Q13: Wrong result numbers!\""
   ]
  },
  {
   "cell_type": "code",
   "execution_count": null,
   "metadata": {},
   "outputs": [],
   "source": [
    "# space for proffesor tests"
   ]
  }
 ],
 "metadata": {
  "kernelspec": {
   "display_name": "data_science_course",
   "language": "python",
   "name": "python3"
  },
  "language_info": {
   "codemirror_mode": {
    "name": "ipython",
    "version": 3
   },
   "file_extension": ".py",
   "mimetype": "text/x-python",
   "name": "python",
   "nbconvert_exporter": "python",
   "pygments_lexer": "ipython3",
   "version": "3.12.3"
  }
 },
 "nbformat": 4,
 "nbformat_minor": 2
}
