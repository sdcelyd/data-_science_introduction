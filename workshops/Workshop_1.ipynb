{
 "cells": [
  {
   "cell_type": "markdown",
   "metadata": {},
   "source": [
    "# Workshop 1\n",
    "\n",
    "Here you're gonna test your __data scientist junior__ skills. Read carefully each one of the problems, write your own test cases, and validate everything works as expected."
   ]
  },
  {
   "cell_type": "markdown",
   "metadata": {},
   "source": [
    "## 1. Regular Expressions\n",
    "\n",
    "As follows complete the code based on the __requirement__. There is a part `#YOUR CODE HERE` where you _should complete_ to accomplish the task. However, you _could_ change anything you want."
   ]
  },
  {
   "cell_type": "markdown",
   "metadata": {},
   "source": [
    "### Problem 1.1\n",
    "\n",
    "Find a list of all of all of the names in the following string using _regex_."
   ]
  },
  {
   "cell_type": "code",
   "execution_count": 1,
   "metadata": {},
   "outputs": [],
   "source": [
    "import re\n",
    "\n",
    "def names():\n",
    "    \"\"\"\n",
    "    This function recognizes the names in the string using regular\n",
    "    expressions and returns a list with these names.\n",
    "\n",
    "    Return:\n",
    "        re.findall(pattern, simple_string): return a list with the \n",
    "        names in the string.\n",
    "    \"\"\"\n",
    "    simple_string = \"\"\"Amy is 5 years old, and her sister Mary is 2 years old. \n",
    "    Ruth and Peter, their parents, have 3 kids.\"\"\"\n",
    "    pattern = r'\\b[A-Z][a-z]*\\b'\n",
    "\n",
    "    return re.findall(pattern, simple_string) "
   ]
  },
  {
   "cell_type": "code",
   "execution_count": 2,
   "metadata": {},
   "outputs": [
    {
     "name": "stdout",
     "output_type": "stream",
     "text": [
      "['Amy', 'Mary', 'Ruth', 'Peter']\n"
     ]
    }
   ],
   "source": [
    "# example of test case\n",
    "assert len(names()) == 4, \"There are four names in the simple_string.\"\n",
    "print(names())"
   ]
  },
  {
   "cell_type": "markdown",
   "metadata": {},
   "source": [
    "### Problem 1.2\n",
    "\n",
    "The _dataset file_ in [assets/grades.txt](./assets/grades.txt) contains a line separated _list of people_ with their __grade__ in a class. Create a _regex_ to generate a list of just those students who received a __B__ in the course."
   ]
  },
  {
   "cell_type": "code",
   "execution_count": 3,
   "metadata": {},
   "outputs": [
    {
     "name": "stdout",
     "output_type": "stream",
     "text": [
      "['Bell Kassulke', 'Simon Loidl', 'Elias Jovanovic', 'Hakim Botros', 'Emilie Lorentsen', 'Jake Wood', 'Fatemeh Akhtar', 'Kim Weston', 'Yasmin Dar', 'Viswamitra Upandhye', 'Killian Kaufman', 'Elwood Page', 'Elodie Booker', 'Adnan Chen', 'Hank Spinka', 'Hannah Bayer']\n"
     ]
    }
   ],
   "source": [
    "import re\n",
    "def grades():\n",
    "    \"\"\" \n",
    "    This function selects the names of the students who \n",
    "    received a B in the course using regular expressions.\n",
    "\n",
    "    Return: \n",
    "        students(list): A list with the name of the students \n",
    "        who received a B\n",
    "    \"\"\"\n",
    "    with open(\"assets/grades.txt\", \"r\") as file:\n",
    "        grades = file.read()\n",
    "    pattern = r'\\b([A-Z][a-z]+ [A-Z][a-z]+): B\\b'\n",
    "    students = re.findall(pattern, grades)\n",
    "    return students\n",
    "print(grades())\n"
   ]
  },
  {
   "cell_type": "code",
   "execution_count": 4,
   "metadata": {},
   "outputs": [],
   "source": [
    "# example of test case\n",
    "assert len(grades()) == 16"
   ]
  },
  {
   "cell_type": "markdown",
   "metadata": {},
   "source": [
    "### Problem 1.3\n",
    "\n",
    "Consider the standard _web log file_ in [assets/logdata.txt](./assets/logdata.txt). This _file_ records the _access_ a user makes when visiting a web page. Each __line of the log__ has the following _items_:\n",
    "\n",
    "- a __host__ (e.g., `146.204.224.152`)\n",
    "- a __user_name__ (e.g., `feest6811`. _Hint:_ sometimes the user name is missing! In this case, use `-` as the value for the username.)\n",
    "- the __time__ a request was made (e.g., `21/Jun/2019:15:45:24 -0700`)\n",
    "- the post __request type__ (e.g., `POST /incentivize HTTP/1.1`. _Note:_ not everything is a POST!)\n",
    "\n",
    "Your task is to convert this into a list of dictionaries, where each dictionary looks like the following:\n",
    "\n",
    "```python\n",
    "example_dict = {\"host\":\"146.204.224.152\", \n",
    "                \"user_name\":\"feest6811\", \n",
    "                \"time\":\"21/Jun/2019:15:45:24 -0700\",\n",
    "                \"request\":\"POST /incentivize HTTP/1.1\"}\n",
    "```"
   ]
  },
  {
   "cell_type": "code",
   "execution_count": 5,
   "metadata": {},
   "outputs": [
    {
     "name": "stdout",
     "output_type": "stream",
     "text": [
      "{'host': '233.187.15.207', 'user_name': '-', 'time': '21/Jun/2019:15:46:14 -0700', 'request': 'GET /harness/intuitive HTTP/1.0'}\n"
     ]
    }
   ],
   "source": [
    "import re\n",
    "def logs():\n",
    "    \"\"\" \n",
    "    This function generates a list of dictionaries with the host, \n",
    "    user_name, time, and request of what a user does when they \n",
    "    visit a web page.\n",
    "    \n",
    "    Return:\n",
    "        logs_list(list): A list of dictionaries containing \n",
    "        information about the actions performed by users on a web \n",
    "        page.\n",
    "    \"\"\"\n",
    "    with open(\"assets/logdata.txt\", \"r\") as file:\n",
    "        logdata = file.read()\n",
    "        \n",
    "    # Separar cada línea de registro\n",
    "    actions = logdata.split(\"\\n\")\n",
    "    \n",
    "    # Patrón regex para extraer host, nombre de usuario, hora y solicitud\n",
    "    patternHost = r'(\\d+\\.\\d+\\.\\d+\\.\\d+)'\n",
    "    patternName = r'- (\\S+) '\n",
    "    patternTime = r'\\[(.*?)\\]'\n",
    "    patternRequest = r'\"(.*?)\"'\n",
    "    \n",
    "    logs_list = []\n",
    "    for action in actions:\n",
    "        visit = {\n",
    "            \"host\": re.search(patternHost, action).group(1) if re.search(patternHost, action) else None,\n",
    "            \"user_name\": re.search(patternName, action).group(1) if re.search(patternName, action) else None,\n",
    "            \"time\": re.search(patternTime, action).group(1) if re.search(patternTime, action) else None,\n",
    "            \"request\": re.search(patternRequest, action).group(1) if re.search(patternRequest, action) else None\n",
    "        }\n",
    "        logs_list.append(visit)\n",
    "        \n",
    "    return logs_list\n",
    "logs_list = logs()\n",
    "print(logs_list[30])"
   ]
  },
  {
   "cell_type": "code",
   "execution_count": 14,
   "metadata": {},
   "outputs": [],
   "source": [
    "# example of test case\n",
    "one_item = {\n",
    "    \"host\": \"146.204.224.152\",\n",
    "    \"user_name\": \"feest6811\",\n",
    "    \"time\": \"21/Jun/2019:15:45:24 -0700\",\n",
    "    \"request\": \"POST /incentivize HTTP/1.1\",\n",
    "}\n",
    "assert (\n",
    "    one_item in logs()\n",
    "), \"Sorry, this item should be in the log results, check your formating\""
   ]
  },
  {
   "cell_type": "markdown",
   "metadata": {},
   "source": [
    "# 2. Descriptive Analysis\n",
    "\n",
    "For this section, you'll be looking at _2017 data on immunizations_ from the _CDC_. Your _datafile_ for next tasks is in [assets/NISPUF17.csv](./assets/NISPUF17.csv). A _data users guide_ for this, which you'll need to map the variables in the data to the questions being asked, is available at [assets/NIS-PUF17-DUG.pdf](./assets/NIS-PUF17-DUG.pdf)."
   ]
  },
  {
   "cell_type": "markdown",
   "metadata": {},
   "source": [
    "# Problem 2.1\n",
    "\n",
    "Write a function called _proportion\\_of\\_education_ which returns the proportion of __children__ in the dataset who had a mother with the education levels equal to less than high school ($<12$), high school ($12$), more than high school but not a college graduate ($>12$) and _college degree_.\n",
    "\n",
    "This _function_ should return a __dictionary__ in the form of (use the _correct numbers_, do not round numbers):\n",
    "\n",
    "```python\n",
    "{\n",
    "    \"less than high school\": 0.2,\n",
    "    \"high school\": 0.4,\n",
    "    \"more than high school but not college\": 0.2,\n",
    "    \"college\": 0.2\n",
    "}\n",
    "```"
   ]
  },
  {
   "cell_type": "code",
   "execution_count": 6,
   "metadata": {},
   "outputs": [],
   "source": [
    "import pandas as pd\n",
    "NISPUF17_df = pd.read_csv('./assets/NISPUF17.csv')\n",
    "\n",
    "def proportion_of_education():\n",
    "    \"\"\"\n",
    "    This function takes a dataset and provides the proportion of \n",
    "    mothers of the surveyed children who had an education level \n",
    "    of less than high school, high school, more than high school \n",
    "    but not college, and college.\n",
    "\n",
    "    Return:\n",
    "        dict: A dictionary with the proportion of mothers according to \n",
    "        their level of education.\n",
    "    \"\"\"\n",
    "    total = len(NISPUF17_df)\n",
    "    education_counts = NISPUF17_df.groupby('EDUC1').size()\n",
    "    mothers_education = {\n",
    "        1: \"less than high school\",\n",
    "        2: \"high school\",\n",
    "        3: \"more than high school but not college\",\n",
    "        4: \"college\"\n",
    "    }\n",
    "    print(type(education_counts))\n",
    "    proportions = {mothers_education[key]: value / total for key, value in education_counts.items()}\n",
    "    \n",
    "    print(proportions)\n",
    "    # YOUR CODE HERE\n",
    "\n",
    "    return proportions"
   ]
  },
  {
   "cell_type": "code",
   "execution_count": 26,
   "metadata": {},
   "outputs": [
    {
     "name": "stdout",
     "output_type": "stream",
     "text": [
      "<class 'pandas.core.series.Series'>\n",
      "{'less than high school': 0.10202002459160373, 'high school': 0.172352011241876, 'more than high school but not college': 0.24588090637625154, 'college': 0.47974705779026877}\n",
      "<class 'pandas.core.series.Series'>\n",
      "{'less than high school': 0.10202002459160373, 'high school': 0.172352011241876, 'more than high school but not college': 0.24588090637625154, 'college': 0.47974705779026877}\n"
     ]
    }
   ],
   "source": [
    "# example of test cases\n",
    "assert type(proportion_of_education()) == type({}), \"You must return a dictionary.\"\n",
    "assert (\n",
    "    len(proportion_of_education()) == 4\n",
    "), \"You have not returned a dictionary with four items in it.\""
   ]
  },
  {
   "cell_type": "markdown",
   "metadata": {},
   "source": [
    "## Problem 2.2\n",
    "\n",
    "Let's explore the relationship between being _fed breastmilk_ as a child and getting a seasonal _influenza vaccine_ from a healthcare provider. Return a __tuple__ of the _average number of influenza vaccines_ for those children we know received breastmilk as a child and those who know did not.\n",
    "\n",
    "This _function_ should return a __tuple__ in the form (use the _correct numbers_):\n",
    "\n",
    "```python\n",
    "(2.5, 0.1)\n",
    "```"
   ]
  },
  {
   "cell_type": "code",
   "execution_count": 7,
   "metadata": {},
   "outputs": [
    {
     "name": "stdout",
     "output_type": "stream",
     "text": [
      "(1.8799187420058687, 1.5963945918878317)\n"
     ]
    }
   ],
   "source": [
    "import pandas as pd\n",
    "def average_influenza_doses():\n",
    "    \"\"\" \n",
    "    This function calculates the average number of influenza vaccine doses\n",
    "    for children who were breastfed and for those who were not breastfed.\n",
    "    \n",
    "    Return:\n",
    "        doses(tuple): A tuple with the average number of influenza vaccine \n",
    "        doses for breastfed children and for non-breastfed children, \n",
    "        respectively.\n",
    "    \"\"\"\n",
    "    NISPUF17_df = pd.read_csv('./assets/NISPUF17.csv')\n",
    "    fed_breastmilk = NISPUF17_df[NISPUF17_df['CBF_01'] == 1]\n",
    "    no_fed_breastmilk = NISPUF17_df[NISPUF17_df['CBF_01'] == 2]\n",
    "\n",
    "    avg_breastfed = fed_breastmilk['P_NUMFLU'].mean()\n",
    "    avg_not_breastfed = no_fed_breastmilk['P_NUMFLU'].mean()\n",
    "\n",
    "    doses = (avg_breastfed, avg_not_breastfed)\n",
    "\n",
    "    return doses\n",
    "print(average_influenza_doses())"
   ]
  },
  {
   "cell_type": "code",
   "execution_count": 8,
   "metadata": {},
   "outputs": [],
   "source": [
    "# example of test cases\n",
    "assert (\n",
    "    len(average_influenza_doses()) == 2\n",
    "), \"Return two values in a tuple, the first for yes and the second for no.\""
   ]
  },
  {
   "cell_type": "markdown",
   "metadata": {},
   "source": [
    "## Problem 2.3\n",
    "\n",
    "It would be interesting to see if there is any evidence of a link between _vaccine effectiveness_ and _sex of the child_. Calculate the _ratio of the number of children_ who contracted __chickenpox__ but _were vaccinated against it_ (at least one varicella dose) versus those who were vaccinated but did not contract _chicken pox_. Return results by _sex_.\n",
    "\n",
    "This _function_ should return a __dictionary__ in the form of (use the _correct numbers_):\n",
    "\n",
    "```python\n",
    "{\n",
    "    \"male\":0.2,\n",
    "    \"female\":0.4\n",
    "}\n",
    "```\n",
    "\n",
    "_Note:_ To aid in verification, the `chickenpox_by_sex()['female']` value the autograder is looking for starts with the digits `0.0077`.\n"
   ]
  },
  {
   "cell_type": "code",
   "execution_count": 9,
   "metadata": {},
   "outputs": [
    {
     "name": "stdout",
     "output_type": "stream",
     "text": [
      "SEX\n",
      "1    68\n",
      "2    53\n",
      "Name: count, dtype: int64\n",
      "SEX\n",
      "1    7028\n",
      "2    6802\n",
      "Name: count, dtype: int64\n",
      "{'male': 0.009675583380762664, 'female': 0.0077918259335489565}\n"
     ]
    }
   ],
   "source": [
    "def chickenpox_by_sex():\n",
    "    \"\"\" \n",
    "    This function calculates the ratio of the number of children who \n",
    "    contracted chickenpox but were vaccinated against it (at least \n",
    "    one varicella dose) versus those who were vaccinated but did not \n",
    "    contract chickenpox. The results are returned by sex.\n",
    "\n",
    "    Return:\n",
    "        stats(dict): A dictionary with the keys 'male' and 'female' \n",
    "        representing the ratio of vaccinated children who contracted \n",
    "        chickenpox to those who did not.\n",
    "    \"\"\"\n",
    "    NISPUF17_df = pd.read_csv('./assets/NISPUF17.csv')\n",
    "\n",
    "    vaccinated = NISPUF17_df[NISPUF17_df['P_NUMVRC'] >= 1]\n",
    "    chickenpox = vaccinated[vaccinated['HAD_CPOX'] == 1]\n",
    "    no_chickenpox = vaccinated[vaccinated['HAD_CPOX'] == 2]\n",
    "    chickenpox_counts = chickenpox['SEX'].value_counts()\n",
    "    no_chickenpox_counts = no_chickenpox['SEX'].value_counts()\n",
    "\n",
    "    print(chickenpox_counts)\n",
    "    print(no_chickenpox_counts)\n",
    "\n",
    "    stats = {}\n",
    "    stats[\"male\"] = chickenpox_counts[1]/no_chickenpox_counts[1]\n",
    "    stats[\"female\"] = chickenpox_counts[2]/no_chickenpox_counts[2]\n",
    "    return stats\n",
    "result = chickenpox_by_sex()\n",
    "print(result)"
   ]
  },
  {
   "cell_type": "markdown",
   "metadata": {},
   "source": [
    "## Problem 2.4\n",
    "\n",
    "A __correlation__ is a _statistical relationship_ between two variables. If we wanted to know _if vaccines work_, we might look at the correlation between the use of the vaccine and whether it results in prevention of the infection or disease. In this task, you are to see if there is a correlation between _having had the chicken pox_ and the _number of chickenpox vaccine doses given_ (varicella).\n",
    "\n",
    "Some notes on interpreting the answer. The `had_chickenpox_column` is either $1$ (for _yes_) or $2$ (for _no_), and the `num_chickenpox_vaccine_column` is the number of doses a child has been given of the varicella vaccine. A _positive correlation_ (e.g., $corr > 0$) means that an increase in _had\\_chickenpox\\_column_ (which means more _no_’s) would also increase the values of _num\\_chickenpox\\_vaccine\\_column_ (which means _more doses of vaccine_). If there is a _negative correlation_ (e.g., $corr < 0$), it indicates that having had chickenpox is related to an increase in the number of vaccine doses.\n",
    "\n",
    "Also, $pval$ is the probability that we observe a correlation between _had\\_chickenpox\\_column_ and _num\\_chickenpox\\_vaccine\\_column_ which is greater than or equal to a particular value occurred by chance. A _small pval_ means that the observed correlation is highly unlikely to occur by chance. In this case, _pval_ should be very small (will end in $e-18$ indicating a very small number)."
   ]
  },
  {
   "cell_type": "code",
   "execution_count": 10,
   "metadata": {},
   "outputs": [],
   "source": [
    "import scipy.stats as stats\n",
    "import numpy as np\n",
    "import pandas as pd\n",
    "\n",
    "\n",
    "def corr_chickenpox():\n",
    "    \"\"\" \n",
    "    This function calculates the correlation between having \n",
    "    had chickenpox and the number of chickenpox vaccine doses \n",
    "    given (varicella).\n",
    "\n",
    "    Return:\n",
    "        corr(float): A float with thhe pearson correlation coefficient between having had chickenpox \n",
    "        and the number of chickenpox vaccine doses given.\n",
    "\n",
    "    \"\"\"\n",
    "    NISPUF17_df = pd.read_csv('assets/NISPUF17.csv')\n",
    "    NISPUF17_df = NISPUF17_df[[\"HAD_CPOX\", \"P_NUMVRC\"]].dropna()\n",
    "    NISPUF17_df = NISPUF17_df[NISPUF17_df[\"HAD_CPOX\"] < 3]\n",
    "    \n",
    "    chickenpox_df = pd.DataFrame(\n",
    "        {\n",
    "            \"had_chickenpox_column\": NISPUF17_df[\"HAD_CPOX\"],\n",
    "            \"num_chickenpox_vaccine_column\": NISPUF17_df[\"P_NUMVRC\"]\n",
    "        }\n",
    "    )\n",
    "\n",
    "    corr, pval = stats.pearsonr(\n",
    "        chickenpox_df[\"had_chickenpox_column\"],\n",
    "        chickenpox_df[\"num_chickenpox_vaccine_column\"]\n",
    "    )\n",
    "\n",
    "    return corr"
   ]
  },
  {
   "cell_type": "code",
   "execution_count": 11,
   "metadata": {},
   "outputs": [],
   "source": [
    "# example of test cases\n",
    "assert (\n",
    "    -1 <= corr_chickenpox() <= 1\n",
    "), \"You must return a float number between -1.0 and 1.0.\""
   ]
  }
 ],
 "metadata": {
  "kernelspec": {
   "display_name": "data_science_course",
   "language": "python",
   "name": "python3"
  },
  "language_info": {
   "codemirror_mode": {
    "name": "ipython",
    "version": 3
   },
   "file_extension": ".py",
   "mimetype": "text/x-python",
   "name": "python",
   "nbconvert_exporter": "python",
   "pygments_lexer": "ipython3",
   "version": "3.12.3"
  }
 },
 "nbformat": 4,
 "nbformat_minor": 2
}
